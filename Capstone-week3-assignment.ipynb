{
    "cells": [
        {
            "cell_type": "markdown",
            "metadata": {
                "collapsed": true
            },
            "source": "# Part 1"
        },
        {
            "cell_type": "code",
            "execution_count": 1,
            "metadata": {},
            "outputs": [
                {
                    "name": "stdout",
                    "output_type": "stream",
                    "text": "Basics on board!\n"
                }
            ],
            "source": "#Installing and/or importing necessary libraries\nimport pandas as pd\nimport numpy as np\nprint('Basics on board!')"
        },
        {
            "cell_type": "markdown",
            "metadata": {},
            "source": "## Loading the data"
        },
        {
            "cell_type": "code",
            "execution_count": 58,
            "metadata": {},
            "outputs": [
                {
                    "name": "stdout",
                    "output_type": "stream",
                    "text": "   PostalCode       Borough  Neighborhood\n0         M1A  Not assigned  Not assigned\n10        M1B   Scarborough       Malvern\n9         M1B   Scarborough         Rouge\n27        M1C   Scarborough    Port Union\n26        M1C   Scarborough    Rouge Hill\n    PostalCode       Borough  Neighborhood\n229        M9V     Etobicoke     Jamestown\n243        M9W     Etobicoke     Northwest\n256        M9X  Not assigned  Not assigned\n272        M9Y  Not assigned  Not assigned\n285        M9Z  Not assigned  Not assigned\n"
                },
                {
                    "data": {
                        "text/plain": "(287, 3)"
                    },
                    "execution_count": 58,
                    "metadata": {},
                    "output_type": "execute_result"
                }
            ],
            "source": "import types\nimport pandas as pd\nfrom botocore.client import Config\nimport ibm_boto3\n\ndef loaddata(self): return 0\n\nclient_67516780930a490c9735e54282cb312c = ibm_boto3.client(service_name='s3',\n    ibm_api_key_id='01NaSjGzKn73HSUqneqh2JBY0kYssy4GtPtu4DQFPZdL',\n    ibm_auth_endpoint=\"https://iam.ng.bluemix.net/oidc/token\",\n    config=Config(signature_version='oauth'),\n    endpoint_url='https://s3-api.us-geo.objectstorage.service.networklayer.com')\n\nbody = client_67516780930a490c9735e54282cb312c.get_object(Bucket='capstone-donotdelete-pr-6cawx37of4pu5r',Key='list_canada_postal_codes_wiki.csv')['Body']\n\nif not hasattr(body, \"loaddata\"): body.loaddata = types.MethodType( loaddata, body )\n\n#defining the dataframe with adequate parameters\ncanpc_raw = pd.read_csv(body, sep=';')\n\ncanpc_raw.columns = ['PostalCode', 'Borough', 'Neighborhood']\ncolumns = ['PostalCode', 'Borough', 'Neighborhood']\n\ndf = pd.DataFrame([['M1A', 'Not assigned', 'Not assigned']], columns=columns)\ncanpc_f = canpc_raw.append(df)\ncanpc_f.sort_values('PostalCode')\ncanpc = canpc_f.sort_values('PostalCode')\nprint(canpc.head())\nprint(canpc.tail())\ncanpc.shape"
        },
        {
            "cell_type": "markdown",
            "metadata": {},
            "source": "# Cleaning the data"
        },
        {
            "cell_type": "code",
            "execution_count": 68,
            "metadata": {},
            "outputs": [
                {
                    "data": {
                        "text/html": "<div>\n<style scoped>\n    .dataframe tbody tr th:only-of-type {\n        vertical-align: middle;\n    }\n\n    .dataframe tbody tr th {\n        vertical-align: top;\n    }\n\n    .dataframe thead th {\n        text-align: right;\n    }\n</style>\n<table border=\"1\" class=\"dataframe\">\n  <thead>\n    <tr style=\"text-align: right;\">\n      <th></th>\n      <th>PostalCode</th>\n      <th>Borough</th>\n      <th>Neighborhood</th>\n    </tr>\n  </thead>\n  <tbody>\n    <tr>\n      <th>10</th>\n      <td>M1B</td>\n      <td>Scarborough</td>\n      <td>Malvern</td>\n    </tr>\n    <tr>\n      <th>9</th>\n      <td>M1B</td>\n      <td>Scarborough</td>\n      <td>Rouge</td>\n    </tr>\n    <tr>\n      <th>27</th>\n      <td>M1C</td>\n      <td>Scarborough</td>\n      <td>Port Union</td>\n    </tr>\n    <tr>\n      <th>26</th>\n      <td>M1C</td>\n      <td>Scarborough</td>\n      <td>Rouge Hill</td>\n    </tr>\n    <tr>\n      <th>25</th>\n      <td>M1C</td>\n      <td>Scarborough</td>\n      <td>Highland Creek</td>\n    </tr>\n    <tr>\n      <th>42</th>\n      <td>M1E</td>\n      <td>Scarborough</td>\n      <td>West Hill</td>\n    </tr>\n    <tr>\n      <th>41</th>\n      <td>M1E</td>\n      <td>Scarborough</td>\n      <td>Morningside</td>\n    </tr>\n    <tr>\n      <th>40</th>\n      <td>M1E</td>\n      <td>Scarborough</td>\n      <td>Guildwood</td>\n    </tr>\n    <tr>\n      <th>51</th>\n      <td>M1G</td>\n      <td>Scarborough</td>\n      <td>Woburn</td>\n    </tr>\n    <tr>\n      <th>60</th>\n      <td>M1H</td>\n      <td>Scarborough</td>\n      <td>Cedarbrae</td>\n    </tr>\n    <tr>\n      <th>74</th>\n      <td>M1J</td>\n      <td>Scarborough</td>\n      <td>Scarborough Village</td>\n    </tr>\n    <tr>\n      <th>89</th>\n      <td>M1K</td>\n      <td>Scarborough</td>\n      <td>East Birchmount Park</td>\n    </tr>\n    <tr>\n      <th>90</th>\n      <td>M1K</td>\n      <td>Scarborough</td>\n      <td>Ionview</td>\n    </tr>\n    <tr>\n      <th>91</th>\n      <td>M1K</td>\n      <td>Scarborough</td>\n      <td>Kennedy Park</td>\n    </tr>\n    <tr>\n      <th>105</th>\n      <td>M1L</td>\n      <td>Scarborough</td>\n      <td>Clairlea</td>\n    </tr>\n    <tr>\n      <th>106</th>\n      <td>M1L</td>\n      <td>Scarborough</td>\n      <td>Golden Mile</td>\n    </tr>\n    <tr>\n      <th>107</th>\n      <td>M1L</td>\n      <td>Scarborough</td>\n      <td>Oakridge</td>\n    </tr>\n    <tr>\n      <th>121</th>\n      <td>M1M</td>\n      <td>Scarborough</td>\n      <td>Cliffcrest</td>\n    </tr>\n    <tr>\n      <th>122</th>\n      <td>M1M</td>\n      <td>Scarborough</td>\n      <td>Cliffside</td>\n    </tr>\n    <tr>\n      <th>123</th>\n      <td>M1M</td>\n      <td>Scarborough</td>\n      <td>Scarborough Village West</td>\n    </tr>\n    <tr>\n      <th>139</th>\n      <td>M1N</td>\n      <td>Scarborough</td>\n      <td>Cliffside West</td>\n    </tr>\n    <tr>\n      <th>138</th>\n      <td>M1N</td>\n      <td>Scarborough</td>\n      <td>Birch Cliff</td>\n    </tr>\n    <tr>\n      <th>149</th>\n      <td>M1P</td>\n      <td>Scarborough</td>\n      <td>Dorset Park</td>\n    </tr>\n    <tr>\n      <th>150</th>\n      <td>M1P</td>\n      <td>Scarborough</td>\n      <td>Scarborough Town Centre</td>\n    </tr>\n    <tr>\n      <th>151</th>\n      <td>M1P</td>\n      <td>Scarborough</td>\n      <td>Wexford Heights</td>\n    </tr>\n    <tr>\n      <th>162</th>\n      <td>M1R</td>\n      <td>Scarborough</td>\n      <td>Maryvale</td>\n    </tr>\n    <tr>\n      <th>163</th>\n      <td>M1R</td>\n      <td>Scarborough</td>\n      <td>Wexford</td>\n    </tr>\n    <tr>\n      <th>178</th>\n      <td>M1S</td>\n      <td>Scarborough</td>\n      <td>Agincourt</td>\n    </tr>\n    <tr>\n      <th>189</th>\n      <td>M1T</td>\n      <td>Scarborough</td>\n      <td>Clarks Corners</td>\n    </tr>\n    <tr>\n      <th>190</th>\n      <td>M1T</td>\n      <td>Scarborough</td>\n      <td>Sullivan</td>\n    </tr>\n    <tr>\n      <th>...</th>\n      <td>...</td>\n      <td>...</td>\n      <td>...</td>\n    </tr>\n    <tr>\n      <th>282</th>\n      <td>M8Z</td>\n      <td>Etobicoke</td>\n      <td>The Queensway West</td>\n    </tr>\n    <tr>\n      <th>280</th>\n      <td>M8Z</td>\n      <td>Etobicoke</td>\n      <td>Kingsway Park South West</td>\n    </tr>\n    <tr>\n      <th>8</th>\n      <td>M9A</td>\n      <td>Queen's Park</td>\n      <td>Queen's Park</td>\n    </tr>\n    <tr>\n      <th>24</th>\n      <td>M9B</td>\n      <td>Etobicoke</td>\n      <td>West Deane Park</td>\n    </tr>\n    <tr>\n      <th>20</th>\n      <td>M9B</td>\n      <td>Etobicoke</td>\n      <td>Cloverdale</td>\n    </tr>\n    <tr>\n      <th>22</th>\n      <td>M9B</td>\n      <td>Etobicoke</td>\n      <td>Martin Grove</td>\n    </tr>\n    <tr>\n      <th>23</th>\n      <td>M9B</td>\n      <td>Etobicoke</td>\n      <td>Princess Gardens</td>\n    </tr>\n    <tr>\n      <th>21</th>\n      <td>M9B</td>\n      <td>Etobicoke</td>\n      <td>Islington</td>\n    </tr>\n    <tr>\n      <th>36</th>\n      <td>M9C</td>\n      <td>Etobicoke</td>\n      <td>Bloordale Gardens</td>\n    </tr>\n    <tr>\n      <th>37</th>\n      <td>M9C</td>\n      <td>Etobicoke</td>\n      <td>Eringate</td>\n    </tr>\n    <tr>\n      <th>38</th>\n      <td>M9C</td>\n      <td>Etobicoke</td>\n      <td>Markland Wood</td>\n    </tr>\n    <tr>\n      <th>39</th>\n      <td>M9C</td>\n      <td>Etobicoke</td>\n      <td>Old Burnhamthorpe</td>\n    </tr>\n    <tr>\n      <th>120</th>\n      <td>M9L</td>\n      <td>North York</td>\n      <td>Humber Summit</td>\n    </tr>\n    <tr>\n      <th>136</th>\n      <td>M9M</td>\n      <td>North York</td>\n      <td>Emery</td>\n    </tr>\n    <tr>\n      <th>137</th>\n      <td>M9M</td>\n      <td>North York</td>\n      <td>Humberlea</td>\n    </tr>\n    <tr>\n      <th>148</th>\n      <td>M9N</td>\n      <td>York</td>\n      <td>Weston</td>\n    </tr>\n    <tr>\n      <th>161</th>\n      <td>M9P</td>\n      <td>Etobicoke</td>\n      <td>Westmount</td>\n    </tr>\n    <tr>\n      <th>177</th>\n      <td>M9R</td>\n      <td>Etobicoke</td>\n      <td>St. Phillips</td>\n    </tr>\n    <tr>\n      <th>174</th>\n      <td>M9R</td>\n      <td>Etobicoke</td>\n      <td>Kingsview Village</td>\n    </tr>\n    <tr>\n      <th>175</th>\n      <td>M9R</td>\n      <td>Etobicoke</td>\n      <td>Martin Grove Gardens</td>\n    </tr>\n    <tr>\n      <th>176</th>\n      <td>M9R</td>\n      <td>Etobicoke</td>\n      <td>Richview Gardens</td>\n    </tr>\n    <tr>\n      <th>233</th>\n      <td>M9V</td>\n      <td>Etobicoke</td>\n      <td>Thistletown</td>\n    </tr>\n    <tr>\n      <th>228</th>\n      <td>M9V</td>\n      <td>Etobicoke</td>\n      <td>Humbergate</td>\n    </tr>\n    <tr>\n      <th>232</th>\n      <td>M9V</td>\n      <td>Etobicoke</td>\n      <td>South Steeles</td>\n    </tr>\n    <tr>\n      <th>231</th>\n      <td>M9V</td>\n      <td>Etobicoke</td>\n      <td>Silverstone</td>\n    </tr>\n    <tr>\n      <th>230</th>\n      <td>M9V</td>\n      <td>Etobicoke</td>\n      <td>Mount Olive</td>\n    </tr>\n    <tr>\n      <th>226</th>\n      <td>M9V</td>\n      <td>Etobicoke</td>\n      <td>Albion Gardens</td>\n    </tr>\n    <tr>\n      <th>227</th>\n      <td>M9V</td>\n      <td>Etobicoke</td>\n      <td>Beaumond Heights</td>\n    </tr>\n    <tr>\n      <th>229</th>\n      <td>M9V</td>\n      <td>Etobicoke</td>\n      <td>Jamestown</td>\n    </tr>\n    <tr>\n      <th>243</th>\n      <td>M9W</td>\n      <td>Etobicoke</td>\n      <td>Northwest</td>\n    </tr>\n  </tbody>\n</table>\n<p>210 rows \u00d7 3 columns</p>\n</div>",
                        "text/plain": "    PostalCode       Borough              Neighborhood\n10         M1B   Scarborough                   Malvern\n9          M1B   Scarborough                     Rouge\n27         M1C   Scarborough                Port Union\n26         M1C   Scarborough                Rouge Hill\n25         M1C   Scarborough            Highland Creek\n42         M1E   Scarborough                 West Hill\n41         M1E   Scarborough               Morningside\n40         M1E   Scarborough                 Guildwood\n51         M1G   Scarborough                    Woburn\n60         M1H   Scarborough                 Cedarbrae\n74         M1J   Scarborough       Scarborough Village\n89         M1K   Scarborough      East Birchmount Park\n90         M1K   Scarborough                   Ionview\n91         M1K   Scarborough              Kennedy Park\n105        M1L   Scarborough                  Clairlea\n106        M1L   Scarborough               Golden Mile\n107        M1L   Scarborough                  Oakridge\n121        M1M   Scarborough                Cliffcrest\n122        M1M   Scarborough                 Cliffside\n123        M1M   Scarborough  Scarborough Village West\n139        M1N   Scarborough            Cliffside West\n138        M1N   Scarborough               Birch Cliff\n149        M1P   Scarborough               Dorset Park\n150        M1P   Scarborough   Scarborough Town Centre\n151        M1P   Scarborough           Wexford Heights\n162        M1R   Scarborough                  Maryvale\n163        M1R   Scarborough                   Wexford\n178        M1S   Scarborough                 Agincourt\n189        M1T   Scarborough            Clarks Corners\n190        M1T   Scarborough                  Sullivan\n..         ...           ...                       ...\n282        M8Z     Etobicoke        The Queensway West\n280        M8Z     Etobicoke  Kingsway Park South West\n8          M9A  Queen's Park              Queen's Park\n24         M9B     Etobicoke           West Deane Park\n20         M9B     Etobicoke                Cloverdale\n22         M9B     Etobicoke              Martin Grove\n23         M9B     Etobicoke          Princess Gardens\n21         M9B     Etobicoke                 Islington\n36         M9C     Etobicoke         Bloordale Gardens\n37         M9C     Etobicoke                  Eringate\n38         M9C     Etobicoke             Markland Wood\n39         M9C     Etobicoke         Old Burnhamthorpe\n120        M9L    North York             Humber Summit\n136        M9M    North York                     Emery\n137        M9M    North York                 Humberlea\n148        M9N          York                    Weston\n161        M9P     Etobicoke                 Westmount\n177        M9R     Etobicoke              St. Phillips\n174        M9R     Etobicoke         Kingsview Village\n175        M9R     Etobicoke      Martin Grove Gardens\n176        M9R     Etobicoke          Richview Gardens\n233        M9V     Etobicoke               Thistletown\n228        M9V     Etobicoke                Humbergate\n232        M9V     Etobicoke             South Steeles\n231        M9V     Etobicoke               Silverstone\n230        M9V     Etobicoke               Mount Olive\n226        M9V     Etobicoke            Albion Gardens\n227        M9V     Etobicoke          Beaumond Heights\n229        M9V     Etobicoke                 Jamestown\n243        M9W     Etobicoke                 Northwest\n\n[210 rows x 3 columns]"
                    },
                    "execution_count": 68,
                    "metadata": {},
                    "output_type": "execute_result"
                }
            ],
            "source": "#replacing missing values\ncanpc.replace('Not assigned', np.NaN, inplace=True)\ncanpc.dropna(subset=['Borough'], inplace=True)\ncanpc"
        },
        {
            "cell_type": "code",
            "execution_count": 63,
            "metadata": {},
            "outputs": [
                {
                    "name": "stdout",
                    "output_type": "stream",
                    "text": "    PostalCode       Borough              Neighborhood\n10         M1B   Scarborough                   Malvern\n9          M1B   Scarborough                     Rouge\n27         M1C   Scarborough                Port Union\n26         M1C   Scarborough                Rouge Hill\n25         M1C   Scarborough            Highland Creek\n42         M1E   Scarborough                 West Hill\n41         M1E   Scarborough               Morningside\n40         M1E   Scarborough                 Guildwood\n51         M1G   Scarborough                    Woburn\n60         M1H   Scarborough                 Cedarbrae\n74         M1J   Scarborough       Scarborough Village\n89         M1K   Scarborough      East Birchmount Park\n90         M1K   Scarborough                   Ionview\n91         M1K   Scarborough              Kennedy Park\n105        M1L   Scarborough                  Clairlea\n106        M1L   Scarborough               Golden Mile\n107        M1L   Scarborough                  Oakridge\n121        M1M   Scarborough                Cliffcrest\n122        M1M   Scarborough                 Cliffside\n123        M1M   Scarborough  Scarborough Village West\n139        M1N   Scarborough            Cliffside West\n138        M1N   Scarborough               Birch Cliff\n149        M1P   Scarborough               Dorset Park\n150        M1P   Scarborough   Scarborough Town Centre\n151        M1P   Scarborough           Wexford Heights\n162        M1R   Scarborough                  Maryvale\n163        M1R   Scarborough                   Wexford\n178        M1S   Scarborough                 Agincourt\n189        M1T   Scarborough            Clarks Corners\n190        M1T   Scarborough                  Sullivan\n..         ...           ...                       ...\n282        M8Z     Etobicoke        The Queensway West\n280        M8Z     Etobicoke  Kingsway Park South West\n8          M9A  Queen's Park              Queen's Park\n24         M9B     Etobicoke           West Deane Park\n20         M9B     Etobicoke                Cloverdale\n22         M9B     Etobicoke              Martin Grove\n23         M9B     Etobicoke          Princess Gardens\n21         M9B     Etobicoke                 Islington\n36         M9C     Etobicoke         Bloordale Gardens\n37         M9C     Etobicoke                  Eringate\n38         M9C     Etobicoke             Markland Wood\n39         M9C     Etobicoke         Old Burnhamthorpe\n120        M9L    North York             Humber Summit\n136        M9M    North York                     Emery\n137        M9M    North York                 Humberlea\n148        M9N          York                    Weston\n161        M9P     Etobicoke                 Westmount\n177        M9R     Etobicoke              St. Phillips\n174        M9R     Etobicoke         Kingsview Village\n175        M9R     Etobicoke      Martin Grove Gardens\n176        M9R     Etobicoke          Richview Gardens\n233        M9V     Etobicoke               Thistletown\n228        M9V     Etobicoke                Humbergate\n232        M9V     Etobicoke             South Steeles\n231        M9V     Etobicoke               Silverstone\n230        M9V     Etobicoke               Mount Olive\n226        M9V     Etobicoke            Albion Gardens\n227        M9V     Etobicoke          Beaumond Heights\n229        M9V     Etobicoke                 Jamestown\n243        M9W     Etobicoke                 Northwest\n\n[210 rows x 3 columns]\n"
                }
            ],
            "source": "#replacing NaN from Neighborhood column with respective value of Borough column\ncanpc.Neighborhood.fillna(canpc.Borough, inplace = True)\nprint(canpc)"
        },
        {
            "cell_type": "code",
            "execution_count": 113,
            "metadata": {},
            "outputs": [
                {
                    "data": {
                        "text/html": "<div>\n<style scoped>\n    .dataframe tbody tr th:only-of-type {\n        vertical-align: middle;\n    }\n\n    .dataframe tbody tr th {\n        vertical-align: top;\n    }\n\n    .dataframe thead th {\n        text-align: right;\n    }\n</style>\n<table border=\"1\" class=\"dataframe\">\n  <thead>\n    <tr style=\"text-align: right;\">\n      <th></th>\n      <th>PostalCode</th>\n      <th>Borough</th>\n      <th>Neighborhood_merged</th>\n    </tr>\n  </thead>\n  <tbody>\n    <tr>\n      <th>10</th>\n      <td>M1B</td>\n      <td>Scarborough</td>\n      <td>[Malvern, Rouge]</td>\n    </tr>\n    <tr>\n      <th>27</th>\n      <td>M1C</td>\n      <td>Scarborough</td>\n      <td>[Port Union, Rouge Hill, Highland Creek]</td>\n    </tr>\n    <tr>\n      <th>42</th>\n      <td>M1E</td>\n      <td>Scarborough</td>\n      <td>[West Hill, Morningside, Guildwood]</td>\n    </tr>\n    <tr>\n      <th>51</th>\n      <td>M1G</td>\n      <td>Scarborough</td>\n      <td>[Woburn]</td>\n    </tr>\n    <tr>\n      <th>60</th>\n      <td>M1H</td>\n      <td>Scarborough</td>\n      <td>[Cedarbrae]</td>\n    </tr>\n    <tr>\n      <th>74</th>\n      <td>M1J</td>\n      <td>Scarborough</td>\n      <td>[Scarborough Village]</td>\n    </tr>\n    <tr>\n      <th>89</th>\n      <td>M1K</td>\n      <td>Scarborough</td>\n      <td>[East Birchmount Park, Ionview, Kennedy Park]</td>\n    </tr>\n    <tr>\n      <th>105</th>\n      <td>M1L</td>\n      <td>Scarborough</td>\n      <td>[Clairlea, Golden Mile, Oakridge]</td>\n    </tr>\n    <tr>\n      <th>121</th>\n      <td>M1M</td>\n      <td>Scarborough</td>\n      <td>[Cliffcrest, Cliffside, Scarborough Village West]</td>\n    </tr>\n    <tr>\n      <th>139</th>\n      <td>M1N</td>\n      <td>Scarborough</td>\n      <td>[Cliffside West, Birch Cliff]</td>\n    </tr>\n    <tr>\n      <th>149</th>\n      <td>M1P</td>\n      <td>Scarborough</td>\n      <td>[Dorset Park, Scarborough Town Centre, Wexford...</td>\n    </tr>\n    <tr>\n      <th>162</th>\n      <td>M1R</td>\n      <td>Scarborough</td>\n      <td>[Maryvale, Wexford]</td>\n    </tr>\n    <tr>\n      <th>178</th>\n      <td>M1S</td>\n      <td>Scarborough</td>\n      <td>[Agincourt]</td>\n    </tr>\n    <tr>\n      <th>189</th>\n      <td>M1T</td>\n      <td>Scarborough</td>\n      <td>[Clarks Corners, Sullivan, Tam O'Shanter]</td>\n    </tr>\n    <tr>\n      <th>203</th>\n      <td>M1V</td>\n      <td>Scarborough</td>\n      <td>[Agincourt North, Milliken, Steeles East, L'Am...</td>\n    </tr>\n    <tr>\n      <th>234</th>\n      <td>M1W</td>\n      <td>Scarborough</td>\n      <td>[L'Amoreaux West]</td>\n    </tr>\n    <tr>\n      <th>244</th>\n      <td>M1X</td>\n      <td>Scarborough</td>\n      <td>[Upper Rouge]</td>\n    </tr>\n    <tr>\n      <th>61</th>\n      <td>M2H</td>\n      <td>North York</td>\n      <td>[Hillcrest Village]</td>\n    </tr>\n    <tr>\n      <th>77</th>\n      <td>M2J</td>\n      <td>North York</td>\n      <td>[Oriole, Henry Farm, Fairview]</td>\n    </tr>\n    <tr>\n      <th>92</th>\n      <td>M2K</td>\n      <td>North York</td>\n      <td>[Bayview Village]</td>\n    </tr>\n    <tr>\n      <th>108</th>\n      <td>M2L</td>\n      <td>North York</td>\n      <td>[Silver Hills, York Mills]</td>\n    </tr>\n    <tr>\n      <th>125</th>\n      <td>M2M</td>\n      <td>North York</td>\n      <td>[Willowdale, Newtonbrook]</td>\n    </tr>\n    <tr>\n      <th>140</th>\n      <td>M2N</td>\n      <td>North York</td>\n      <td>[Willowdale South]</td>\n    </tr>\n    <tr>\n      <th>152</th>\n      <td>M2P</td>\n      <td>North York</td>\n      <td>[York Mills West]</td>\n    </tr>\n    <tr>\n      <th>164</th>\n      <td>M2R</td>\n      <td>North York</td>\n      <td>[Willowdale West]</td>\n    </tr>\n    <tr>\n      <th>1</th>\n      <td>M3A</td>\n      <td>North York</td>\n      <td>[Parkwoods]</td>\n    </tr>\n    <tr>\n      <th>12</th>\n      <td>M3B</td>\n      <td>North York</td>\n      <td>[Don Mills North]</td>\n    </tr>\n    <tr>\n      <th>29</th>\n      <td>M3C</td>\n      <td>North York</td>\n      <td>[Flemingdon Park, Don Mills South]</td>\n    </tr>\n    <tr>\n      <th>62</th>\n      <td>M3H</td>\n      <td>North York</td>\n      <td>[Bathurst Manor, Downsview North, Wilson Heights]</td>\n    </tr>\n    <tr>\n      <th>78</th>\n      <td>M3J</td>\n      <td>North York</td>\n      <td>[Northwood Park, York University]</td>\n    </tr>\n    <tr>\n      <th>...</th>\n      <td>...</td>\n      <td>...</td>\n      <td>...</td>\n    </tr>\n    <tr>\n      <th>33</th>\n      <td>M6C</td>\n      <td>York</td>\n      <td>[Humewood-Cedarvale]</td>\n    </tr>\n    <tr>\n      <th>47</th>\n      <td>M6E</td>\n      <td>York</td>\n      <td>[Caledonia-Fairbanks]</td>\n    </tr>\n    <tr>\n      <th>56</th>\n      <td>M6G</td>\n      <td>Downtown Toronto</td>\n      <td>[Christie]</td>\n    </tr>\n    <tr>\n      <th>69</th>\n      <td>M6H</td>\n      <td>West Toronto</td>\n      <td>[Dovercourt Village, Dufferin]</td>\n    </tr>\n    <tr>\n      <th>84</th>\n      <td>M6J</td>\n      <td>West Toronto</td>\n      <td>[Little Portugal, Trinity]</td>\n    </tr>\n    <tr>\n      <th>99</th>\n      <td>M6K</td>\n      <td>West Toronto</td>\n      <td>[Brockton, Exhibition Place, Parkdale Village]</td>\n    </tr>\n    <tr>\n      <th>116</th>\n      <td>M6L</td>\n      <td>North York</td>\n      <td>[North Park, Upwood Park, Downsview]</td>\n    </tr>\n    <tr>\n      <th>130</th>\n      <td>M6M</td>\n      <td>York</td>\n      <td>[Del Ray, Mount Dennis, Keelesdale, Silverthorn]</td>\n    </tr>\n    <tr>\n      <th>144</th>\n      <td>M6N</td>\n      <td>York</td>\n      <td>[The Junction North, Runnymede]</td>\n    </tr>\n    <tr>\n      <th>157</th>\n      <td>M6P</td>\n      <td>West Toronto</td>\n      <td>[High Park, The Junction South]</td>\n    </tr>\n    <tr>\n      <th>171</th>\n      <td>M6R</td>\n      <td>West Toronto</td>\n      <td>[Roncesvalles, Parkdale]</td>\n    </tr>\n    <tr>\n      <th>184</th>\n      <td>M6S</td>\n      <td>West Toronto</td>\n      <td>[Runnymede, Swansea]</td>\n    </tr>\n    <tr>\n      <th>6</th>\n      <td>M7A</td>\n      <td>Downtown Toronto</td>\n      <td>[Queen's Park]</td>\n    </tr>\n    <tr>\n      <th>172</th>\n      <td>M7R</td>\n      <td>Mississauga</td>\n      <td>[Canada Post Gateway Processing Centre]</td>\n    </tr>\n    <tr>\n      <th>263</th>\n      <td>M7Y</td>\n      <td>East Toronto</td>\n      <td>[Business Reply Mail Processing Centre 969 Eas...</td>\n    </tr>\n    <tr>\n      <th>223</th>\n      <td>M8V</td>\n      <td>Etobicoke</td>\n      <td>[Humber Bay Shores, Mimico South, New Toronto]</td>\n    </tr>\n    <tr>\n      <th>242</th>\n      <td>M8W</td>\n      <td>Etobicoke</td>\n      <td>[Long Branch, Alderwood]</td>\n    </tr>\n    <tr>\n      <th>254</th>\n      <td>M8X</td>\n      <td>Etobicoke</td>\n      <td>[Montgomery Road, Old Mill North, The Kingsway]</td>\n    </tr>\n    <tr>\n      <th>268</th>\n      <td>M8Y</td>\n      <td>Etobicoke</td>\n      <td>[Old Mill South, Humber Bay, King's Mill Park,...</td>\n    </tr>\n    <tr>\n      <th>281</th>\n      <td>M8Z</td>\n      <td>Etobicoke</td>\n      <td>[Mimico NW, South of Bloor, Royal York South W...</td>\n    </tr>\n    <tr>\n      <th>8</th>\n      <td>M9A</td>\n      <td>Queen's Park</td>\n      <td>[Queen's Park]</td>\n    </tr>\n    <tr>\n      <th>24</th>\n      <td>M9B</td>\n      <td>Etobicoke</td>\n      <td>[West Deane Park, Cloverdale, Martin Grove, Pr...</td>\n    </tr>\n    <tr>\n      <th>36</th>\n      <td>M9C</td>\n      <td>Etobicoke</td>\n      <td>[Bloordale Gardens, Eringate, Markland Wood, O...</td>\n    </tr>\n    <tr>\n      <th>120</th>\n      <td>M9L</td>\n      <td>North York</td>\n      <td>[Humber Summit]</td>\n    </tr>\n    <tr>\n      <th>136</th>\n      <td>M9M</td>\n      <td>North York</td>\n      <td>[Emery, Humberlea]</td>\n    </tr>\n    <tr>\n      <th>148</th>\n      <td>M9N</td>\n      <td>York</td>\n      <td>[Weston]</td>\n    </tr>\n    <tr>\n      <th>161</th>\n      <td>M9P</td>\n      <td>Etobicoke</td>\n      <td>[Westmount]</td>\n    </tr>\n    <tr>\n      <th>177</th>\n      <td>M9R</td>\n      <td>Etobicoke</td>\n      <td>[St. Phillips, Kingsview Village, Martin Grove...</td>\n    </tr>\n    <tr>\n      <th>233</th>\n      <td>M9V</td>\n      <td>Etobicoke</td>\n      <td>[Thistletown, Humbergate, South Steeles, Silve...</td>\n    </tr>\n    <tr>\n      <th>243</th>\n      <td>M9W</td>\n      <td>Etobicoke</td>\n      <td>[Northwest]</td>\n    </tr>\n  </tbody>\n</table>\n<p>103 rows \u00d7 3 columns</p>\n</div>",
                        "text/plain": "    PostalCode           Borough  \\\n10         M1B       Scarborough   \n27         M1C       Scarborough   \n42         M1E       Scarborough   \n51         M1G       Scarborough   \n60         M1H       Scarborough   \n74         M1J       Scarborough   \n89         M1K       Scarborough   \n105        M1L       Scarborough   \n121        M1M       Scarborough   \n139        M1N       Scarborough   \n149        M1P       Scarborough   \n162        M1R       Scarborough   \n178        M1S       Scarborough   \n189        M1T       Scarborough   \n203        M1V       Scarborough   \n234        M1W       Scarborough   \n244        M1X       Scarborough   \n61         M2H        North York   \n77         M2J        North York   \n92         M2K        North York   \n108        M2L        North York   \n125        M2M        North York   \n140        M2N        North York   \n152        M2P        North York   \n164        M2R        North York   \n1          M3A        North York   \n12         M3B        North York   \n29         M3C        North York   \n62         M3H        North York   \n78         M3J        North York   \n..         ...               ...   \n33         M6C              York   \n47         M6E              York   \n56         M6G  Downtown Toronto   \n69         M6H      West Toronto   \n84         M6J      West Toronto   \n99         M6K      West Toronto   \n116        M6L        North York   \n130        M6M              York   \n144        M6N              York   \n157        M6P      West Toronto   \n171        M6R      West Toronto   \n184        M6S      West Toronto   \n6          M7A  Downtown Toronto   \n172        M7R       Mississauga   \n263        M7Y      East Toronto   \n223        M8V         Etobicoke   \n242        M8W         Etobicoke   \n254        M8X         Etobicoke   \n268        M8Y         Etobicoke   \n281        M8Z         Etobicoke   \n8          M9A      Queen's Park   \n24         M9B         Etobicoke   \n36         M9C         Etobicoke   \n120        M9L        North York   \n136        M9M        North York   \n148        M9N              York   \n161        M9P         Etobicoke   \n177        M9R         Etobicoke   \n233        M9V         Etobicoke   \n243        M9W         Etobicoke   \n\n                                   Neighborhood_merged  \n10                                    [Malvern, Rouge]  \n27            [Port Union, Rouge Hill, Highland Creek]  \n42                 [West Hill, Morningside, Guildwood]  \n51                                            [Woburn]  \n60                                         [Cedarbrae]  \n74                               [Scarborough Village]  \n89       [East Birchmount Park, Ionview, Kennedy Park]  \n105                  [Clairlea, Golden Mile, Oakridge]  \n121  [Cliffcrest, Cliffside, Scarborough Village West]  \n139                      [Cliffside West, Birch Cliff]  \n149  [Dorset Park, Scarborough Town Centre, Wexford...  \n162                                [Maryvale, Wexford]  \n178                                        [Agincourt]  \n189          [Clarks Corners, Sullivan, Tam O'Shanter]  \n203  [Agincourt North, Milliken, Steeles East, L'Am...  \n234                                  [L'Amoreaux West]  \n244                                      [Upper Rouge]  \n61                                 [Hillcrest Village]  \n77                      [Oriole, Henry Farm, Fairview]  \n92                                   [Bayview Village]  \n108                         [Silver Hills, York Mills]  \n125                          [Willowdale, Newtonbrook]  \n140                                 [Willowdale South]  \n152                                  [York Mills West]  \n164                                  [Willowdale West]  \n1                                          [Parkwoods]  \n12                                   [Don Mills North]  \n29                  [Flemingdon Park, Don Mills South]  \n62   [Bathurst Manor, Downsview North, Wilson Heights]  \n78                   [Northwood Park, York University]  \n..                                                 ...  \n33                                [Humewood-Cedarvale]  \n47                               [Caledonia-Fairbanks]  \n56                                          [Christie]  \n69                      [Dovercourt Village, Dufferin]  \n84                          [Little Portugal, Trinity]  \n99      [Brockton, Exhibition Place, Parkdale Village]  \n116               [North Park, Upwood Park, Downsview]  \n130   [Del Ray, Mount Dennis, Keelesdale, Silverthorn]  \n144                    [The Junction North, Runnymede]  \n157                    [High Park, The Junction South]  \n171                           [Roncesvalles, Parkdale]  \n184                               [Runnymede, Swansea]  \n6                                       [Queen's Park]  \n172            [Canada Post Gateway Processing Centre]  \n263  [Business Reply Mail Processing Centre 969 Eas...  \n223     [Humber Bay Shores, Mimico South, New Toronto]  \n242                           [Long Branch, Alderwood]  \n254    [Montgomery Road, Old Mill North, The Kingsway]  \n268  [Old Mill South, Humber Bay, King's Mill Park,...  \n281  [Mimico NW, South of Bloor, Royal York South W...  \n8                                       [Queen's Park]  \n24   [West Deane Park, Cloverdale, Martin Grove, Pr...  \n36   [Bloordale Gardens, Eringate, Markland Wood, O...  \n120                                    [Humber Summit]  \n136                                 [Emery, Humberlea]  \n148                                           [Weston]  \n161                                        [Westmount]  \n177  [St. Phillips, Kingsview Village, Martin Grove...  \n233  [Thistletown, Humbergate, South Steeles, Silve...  \n243                                        [Northwest]  \n\n[103 rows x 3 columns]"
                    },
                    "execution_count": 113,
                    "metadata": {},
                    "output_type": "execute_result"
                }
            ],
            "source": "#merging Neighborhood names respective to one postal code\ncanpc_c = canpc.copy()\ncanpc_new = canpc_c.groupby('PostalCode')['Neighborhood'].apply(list).reset_index(name='Neighborhood')\nborough = canpc_c.drop(['Neighborhood'], axis=1)\ncanpcclean = canpc.join(canpc_new.set_index('PostalCode'),on='PostalCode', lsuffix='_orig', rsuffix='_merged')\ncanpcclean.drop(['Neighborhood_orig'], axis=1, inplace = True)\nmydataframe = canpcclean.drop_duplicates(subset = 'PostalCode')\nmydataframe"
        },
        {
            "cell_type": "code",
            "execution_count": 114,
            "metadata": {},
            "outputs": [
                {
                    "name": "stdout",
                    "output_type": "stream",
                    "text": "Shape of data frame is:  (103, 3)\n"
                }
            ],
            "source": "print('Shape of data frame is: ', mydataframe.shape)"
        },
        {
            "cell_type": "markdown",
            "metadata": {},
            "source": "# Part 2"
        },
        {
            "cell_type": "code",
            "execution_count": null,
            "metadata": {},
            "outputs": [],
            "source": ""
        },
        {
            "cell_type": "code",
            "execution_count": null,
            "metadata": {},
            "outputs": [],
            "source": ""
        },
        {
            "cell_type": "code",
            "execution_count": null,
            "metadata": {},
            "outputs": [],
            "source": ""
        },
        {
            "cell_type": "code",
            "execution_count": null,
            "metadata": {},
            "outputs": [],
            "source": ""
        },
        {
            "cell_type": "code",
            "execution_count": null,
            "metadata": {},
            "outputs": [],
            "source": ""
        },
        {
            "cell_type": "code",
            "execution_count": null,
            "metadata": {},
            "outputs": [],
            "source": ""
        },
        {
            "cell_type": "code",
            "execution_count": null,
            "metadata": {},
            "outputs": [],
            "source": ""
        },
        {
            "cell_type": "code",
            "execution_count": null,
            "metadata": {},
            "outputs": [],
            "source": ""
        },
        {
            "cell_type": "code",
            "execution_count": null,
            "metadata": {},
            "outputs": [],
            "source": ""
        },
        {
            "cell_type": "markdown",
            "metadata": {},
            "source": "# Part 3"
        },
        {
            "cell_type": "code",
            "execution_count": null,
            "metadata": {},
            "outputs": [],
            "source": ""
        },
        {
            "cell_type": "code",
            "execution_count": null,
            "metadata": {},
            "outputs": [],
            "source": ""
        },
        {
            "cell_type": "code",
            "execution_count": null,
            "metadata": {},
            "outputs": [],
            "source": ""
        },
        {
            "cell_type": "code",
            "execution_count": null,
            "metadata": {},
            "outputs": [],
            "source": ""
        }
    ],
    "metadata": {
        "kernelspec": {
            "display_name": "Python 3.6",
            "language": "python",
            "name": "python3"
        },
        "language_info": {
            "codemirror_mode": {
                "name": "ipython",
                "version": 3
            },
            "file_extension": ".py",
            "mimetype": "text/x-python",
            "name": "python",
            "nbconvert_exporter": "python",
            "pygments_lexer": "ipython3",
            "version": "3.6.9"
        }
    },
    "nbformat": 4,
    "nbformat_minor": 1
}